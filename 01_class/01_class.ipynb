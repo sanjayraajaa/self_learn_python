{
 "cells": [
  {
   "cell_type": "markdown",
   "metadata": {},
   "source": [
    "1. Class and Object\n",
    "2. Attributes and Methods"
   ]
  },
  {
   "cell_type": "code",
   "execution_count": 4,
   "metadata": {},
   "outputs": [
    {
     "name": "stdout",
     "output_type": "stream",
     "text": [
      "Mahindra Scorpio N\n",
      "Starting Engine !!!\n"
     ]
    }
   ],
   "source": [
    "class Car():\n",
    "    def __init__(self,brand,model):                # 1) Initialized when the object is created.\n",
    "        self.brand = brand\n",
    "        self.model = model\n",
    "\n",
    "    def show_info(self):\n",
    "        print(f\"{self.brand} {self.model}\")\n",
    "    \n",
    "    def start_engine(self):\n",
    "        print(f\"Starting Engine !!!\")\n",
    "    \n",
    "    def full_program(self):\n",
    "        self.show_info()                           # 3) Show Info Called\n",
    "        self.start_engine()                        # 4) Start Engine Called\n",
    "\n",
    "obj = Car(\"Mahindra\",\"Scorpio N\")                  # 2) Object Created\n",
    "obj.full_program()                                 # 5) Full Program Called"
   ]
  },
  {
   "cell_type": "markdown",
   "metadata": {},
   "source": [
    "### Practice"
   ]
  },
  {
   "cell_type": "code",
   "execution_count": 5,
   "metadata": {},
   "outputs": [
    {
     "name": "stdout",
     "output_type": "stream",
     "text": [
      "Sanjay Raja and I am 21 Years Old.\n",
      "Mohamed Riyaz and I am 20 Years Old.\n"
     ]
    }
   ],
   "source": [
    "# Beginner Level\n",
    "\n",
    "class Person():\n",
    "    def __init__(self,name,age):\n",
    "        self.name = name\n",
    "        self.age = age\n",
    "    \n",
    "    def introduce(self):\n",
    "        print(f\"{self.name} and I am {self.age} Years Old.\")\n",
    "\n",
    "person_1 = Person(\"Sanjay Raja\", 21)\n",
    "person_2 = Person(\"Mohamed Riyaz\", 20)\n",
    "\n",
    "person_1.introduce()\n",
    "person_2.introduce()"
   ]
  },
  {
   "cell_type": "code",
   "execution_count": 1,
   "metadata": {},
   "outputs": [
    {
     "name": "stdout",
     "output_type": "stream",
     "text": [
      "Area: 50\n",
      "Perimeter: 30\n"
     ]
    }
   ],
   "source": [
    "# Intermediate Level \n",
    "\n",
    "class Rectangle():\n",
    "    def __init__(self, length, width):\n",
    "        self.length = length\n",
    "        self.width = width\n",
    "    \n",
    "    def area(self):\n",
    "        print(f\"Area: {self.length * self.width}\")\n",
    "    \n",
    "    def perimeter(self):\n",
    "        print(f\"Perimeter: {2 * (self.length + self.width)}\")\n",
    "    \n",
    "    def all_values(self):\n",
    "        self.area()\n",
    "        self.perimeter()\n",
    "\n",
    "r1 = Rectangle(10,5)\n",
    "r1.all_values()"
   ]
  },
  {
   "cell_type": "code",
   "execution_count": 3,
   "metadata": {},
   "outputs": [
    {
     "name": "stdout",
     "output_type": "stream",
     "text": [
      "Account: 123456\n",
      "Balance: 0 from withdrawal\n",
      "Account: 123456\n",
      "Balance: 3000 from Deposit\n",
      "Account not enough Money to Debit\n",
      "Account: 123456\n",
      "Balance: 0 from withdrawal\n"
     ]
    }
   ],
   "source": [
    "class BankAccount():\n",
    "    def __init__(self,account,balance):\n",
    "        self.account = account\n",
    "        self.balance = balance\n",
    "    \n",
    "    def deposit(self,amount):\n",
    "        self.balance += amount\n",
    "        print(f\"Account: {self.account}\\nBalance: {self.balance} from Deposit\")\n",
    "    \n",
    "    def withdraw(self,amount):\n",
    "        if self.balance >= amount:\n",
    "            self.balance -= amount\n",
    "            print(f\"Account: {self.account}\\nBalance: {self.balance} from withdrawal\")\n",
    "        else:\n",
    "            print(\"Account not enough Money to Debit\")\n",
    "\n",
    "a1 = BankAccount(\"123456\",1000)\n",
    "a1.withdraw(1000)\n",
    "a1.deposit(3000)\n",
    "a1.withdraw(4000)\n",
    "a1.withdraw(3000)"
   ]
  },
  {
   "cell_type": "code",
   "execution_count": 4,
   "metadata": {},
   "outputs": [
    {
     "name": "stdout",
     "output_type": "stream",
     "text": [
      "78.53981633974483\n",
      "31.41592653589793\n"
     ]
    }
   ],
   "source": [
    "import math\n",
    "\n",
    "class Circle:\n",
    "    def __init__(self, radius):\n",
    "        self.radius = radius\n",
    "\n",
    "    def area(self):\n",
    "        return math.pi * self.radius ** 2\n",
    "\n",
    "    def circumference(self):\n",
    "        return 2 * math.pi * self.radius\n",
    "\n",
    "# Create a circle and print area and circumference\n",
    "circle = Circle(5)\n",
    "print(circle.area())\n",
    "print(circle.circumference())"
   ]
  }
 ],
 "metadata": {
  "kernelspec": {
   "display_name": "Python 3",
   "language": "python",
   "name": "python3"
  },
  "language_info": {
   "codemirror_mode": {
    "name": "ipython",
    "version": 3
   },
   "file_extension": ".py",
   "mimetype": "text/x-python",
   "name": "python",
   "nbconvert_exporter": "python",
   "pygments_lexer": "ipython3",
   "version": "3.13.2"
  }
 },
 "nbformat": 4,
 "nbformat_minor": 2
}
