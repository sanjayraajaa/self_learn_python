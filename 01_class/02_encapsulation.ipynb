{
 "cells": [
  {
   "cell_type": "markdown",
   "metadata": {},
   "source": [
    "Encapsulation in Python"
   ]
  },
  {
   "cell_type": "code",
   "execution_count": 1,
   "metadata": {},
   "outputs": [
    {
     "name": "stdout",
     "output_type": "stream",
     "text": [
      "Balance after deposit: 2000\n",
      "Balance after trying direct modification: 2000\n",
      "Balance after withdrawal: 1500\n",
      "Updated Account Number: 789652\n",
      "Updated Key: 321\n"
     ]
    }
   ],
   "source": [
    "# Defining the BankAccount class\n",
    "class BankAccount:\n",
    "    def __init__(self, account, balance, key):\n",
    "        # Public Variable\n",
    "        self.account = account  \n",
    "        \n",
    "        # Private Variable (Cannot be accessed directly outside the class)\n",
    "        self.__balance = balance  \n",
    "        \n",
    "        # Protected Variable (Can be accessed, but should not be modified directly)\n",
    "        self._key = key                     \n",
    "    \n",
    "    # Method to deposit money (Setter Method)\n",
    "    def deposit(self, amount):              \n",
    "        self.__balance += amount  # Adds the amount to the private balance\n",
    "    \n",
    "    # Method to withdraw money (Setter Method)\n",
    "    def withdraw(self, amount):             \n",
    "        if self.__balance >= amount:\n",
    "            self.__balance -= amount  # Deducts money if balance is sufficient\n",
    "        else:\n",
    "            print(\"Not enough money to withdraw.\")  # Error message if insufficient funds\n",
    "    \n",
    "    # Method to get the current balance (Getter Method)\n",
    "    def get_balance(self):                  \n",
    "        return self.__balance  # Returns the private balance safely\n",
    "    \n",
    "    # Method to get the account number (Public Getter)\n",
    "    def get_account(self):\n",
    "        return self.account  # Returns the account number\n",
    "    \n",
    "    # Method to get the key (Protected Getter)\n",
    "    def get_key(self):\n",
    "        return self._key  # Returns the protected key\n",
    "\n",
    "\n",
    "# Creating an object of BankAccount class\n",
    "a1 = BankAccount(\"12345678\", 1000, 123)\n",
    "\n",
    "# ✅ Depositing money using the deposit method\n",
    "a1.deposit(1000)\n",
    "\n",
    "# ✅ Checking the balance using the getter method\n",
    "print(\"Balance after deposit:\", a1.get_balance())  \n",
    "\n",
    "# ❌ Trying to modify private variable directly (This will NOT update the real balance)\n",
    "a1.__balance = 10000000  # Creates a new attribute instead of modifying the actual private variable\n",
    "\n",
    "# ✅ Checking balance again (It should NOT be affected by the above line)\n",
    "print(\"Balance after trying direct modification:\", a1.get_balance())  \n",
    "\n",
    "# ✅ Withdrawing money using the withdraw method\n",
    "a1.withdraw(500)\n",
    "\n",
    "# ✅ Checking balance after withdrawal\n",
    "print(\"Balance after withdrawal:\", a1.get_balance())  \n",
    "\n",
    "# ✅ Modifying a public variable (Allowed)\n",
    "a1.account = \"789652\"\n",
    "\n",
    "# ✅ Checking updated account number\n",
    "print(\"Updated Account Number:\", a1.get_account())  \n",
    "\n",
    "# ✅ Modifying a protected variable (Allowed but not recommended)\n",
    "a1._key = 321\n",
    "\n",
    "# ✅ Checking updated key\n",
    "print(\"Updated Key:\", a1.get_key())  \n"
   ]
  },
  {
   "cell_type": "code",
   "execution_count": 2,
   "metadata": {},
   "outputs": [
    {
     "name": "stdout",
     "output_type": "stream",
     "text": [
      "75.0\n"
     ]
    }
   ],
   "source": [
    "class Student():\n",
    "    def __init__(self,name):\n",
    "        self._name = name\n",
    "        self.__grade = []\n",
    "    \n",
    "    def add_grade(self, grade):\n",
    "        self.__grade.append(grade)\n",
    "    \n",
    "    def get_average(self):\n",
    "        average = sum(self.__grade) / len(self.__grade)\n",
    "        return average\n",
    "\n",
    "a = Student(\"Sanjay\")\n",
    "a.add_grade(50)\n",
    "a.add_grade(100)\n",
    "a.add_grade(50)\n",
    "a.add_grade(100)\n",
    "\n",
    "print(a.get_average())"
   ]
  }
 ],
 "metadata": {
  "kernelspec": {
   "display_name": "Python 3",
   "language": "python",
   "name": "python3"
  },
  "language_info": {
   "codemirror_mode": {
    "name": "ipython",
    "version": 3
   },
   "file_extension": ".py",
   "mimetype": "text/x-python",
   "name": "python",
   "nbconvert_exporter": "python",
   "pygments_lexer": "ipython3",
   "version": "3.13.2"
  }
 },
 "nbformat": 4,
 "nbformat_minor": 2
}
