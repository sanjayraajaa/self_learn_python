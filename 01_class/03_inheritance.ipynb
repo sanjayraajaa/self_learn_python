{
 "cells": [
  {
   "cell_type": "markdown",
   "metadata": {},
   "source": [
    "### Inheritance"
   ]
  },
  {
   "cell_type": "markdown",
   "metadata": {},
   "source": [
    "#### 1. Single Inheritance"
   ]
  },
  {
   "cell_type": "code",
   "execution_count": 1,
   "metadata": {},
   "outputs": [
    {
     "name": "stdout",
     "output_type": "stream",
     "text": [
      "Books Issued 1, Currently you have 1\n",
      "Books Issued 1, Currently you have 2\n",
      "Books Issued 1, Currently you have 3\n",
      "Books Returned 2, Currently you have 1\n",
      "Currently you have 1. You can't return 2\n",
      "User ID: san12ra\n",
      "Name: Sanjay Raja\n",
      "Books: 1\n"
     ]
    }
   ],
   "source": [
    "class User():\n",
    "    def __init__(self,user,name):\n",
    "        self.user = user\n",
    "        self.name = name\n",
    "        self.books = 0\n",
    "    \n",
    "    def get_details(self):\n",
    "        print(f\"User ID: {self.user}\\nName: {self.name}\\nBooks: {self.books}\")\n",
    "\n",
    "class Library(User):\n",
    "    def issue_book(self,book):\n",
    "        self.books += book\n",
    "        print(f\"Books Issued {book}, Currently you have {self.books}\")\n",
    "    \n",
    "    def return_book(self,book):\n",
    "        if self.books >= book:\n",
    "            self.books -= book\n",
    "            print(f\"Books Returned {book}, Currently you have {self.books}\")\n",
    "        else:\n",
    "            if self.books == 0:\n",
    "                print(\"You don't have any books.\")\n",
    "            else:\n",
    "                print(f\"Currently you have {self.books}. You can't return {book}\")\n",
    "\n",
    "u1 = Library(\"san12ra\",\"Sanjay Raja\")\n",
    "\n",
    "u1.issue_book(1)\n",
    "u1.issue_book(1)\n",
    "u1.issue_book(1)\n",
    "u1.return_book(2)\n",
    "u1.return_book(2)\n",
    "u1.get_details()"
   ]
  },
  {
   "cell_type": "markdown",
   "metadata": {},
   "source": [
    "#### 2. Multiple"
   ]
  },
  {
   "cell_type": "code",
   "execution_count": 2,
   "metadata": {},
   "outputs": [
    {
     "name": "stdout",
     "output_type": "stream",
     "text": [
      "User Details:\n",
      "---- --------\n",
      "User: sanjayraja\n",
      "Name: Sanjay Raja S\n",
      "\n",
      "Employee Details:\n",
      "-------- --------\n",
      "Employee ID: HR-EMP-0001\n",
      "Department: Frappe\n"
     ]
    }
   ],
   "source": [
    "class User():\n",
    "    def __init__(self,user,name):\n",
    "        self.user = user\n",
    "        self.name = name\n",
    "    \n",
    "    def show_user_details(self):\n",
    "        print(f\"User Details:\\n---- --------\\nUser: {self.user}\\nName: {self.name}\\n\")\n",
    "\n",
    "class Employee():\n",
    "    def __init__(self,emp_id,dept):\n",
    "        self.emp_id = emp_id\n",
    "        self.dept = dept\n",
    "    \n",
    "    def show_employee_details(self):\n",
    "        print(f\"Employee Details:\\n-------- --------\\nEmployee ID: {self.emp_id}\\nDepartment: {self.dept}\")\n",
    "\n",
    "class HRMS(User,Employee):\n",
    "    def __init__(self, user, name,emp_id,dept):\n",
    "        User.__init__(self, user, name)\n",
    "        Employee.__init__(self,emp_id,dept)\n",
    "    \n",
    "    def show_details(self):\n",
    "        User.show_user_details(self)\n",
    "        Employee.show_employee_details(self)\n",
    "\n",
    "u1 = HRMS(\"sanjayraja\",\"Sanjay Raja S\",\"HR-EMP-0001\",\"Frappe\")\n",
    "u1.show_details()"
   ]
  }
 ],
 "metadata": {
  "kernelspec": {
   "display_name": "Python 3",
   "language": "python",
   "name": "python3"
  },
  "language_info": {
   "codemirror_mode": {
    "name": "ipython",
    "version": 3
   },
   "file_extension": ".py",
   "mimetype": "text/x-python",
   "name": "python",
   "nbconvert_exporter": "python",
   "pygments_lexer": "ipython3",
   "version": "3.13.2"
  }
 },
 "nbformat": 4,
 "nbformat_minor": 2
}
